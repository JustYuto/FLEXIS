{
  "nbformat": 4,
  "nbformat_minor": 0,
  "metadata": {
    "colab": {
      "provenance": [],
      "authorship_tag": "ABX9TyOHjTe4SHGYFfJ2TUhUzDzW",
      "include_colab_link": true
    },
    "kernelspec": {
      "name": "python3",
      "display_name": "Python 3"
    },
    "language_info": {
      "name": "python"
    }
  },
  "cells": [
    {
      "cell_type": "markdown",
      "metadata": {
        "id": "view-in-github",
        "colab_type": "text"
      },
      "source": [
        "<a href=\"https://colab.research.google.com/github/JustYuto/FLEXIS/blob/main/Scikit%E3%83%BClearn%E3%81%A7%E9%87%8D%E5%9B%9E%E5%B8%B0%E5%88%86%E6%9E%90.ipynb\" target=\"_parent\"><img src=\"https://colab.research.google.com/assets/colab-badge.svg\" alt=\"Open In Colab\"/></a>"
      ]
    },
    {
      "cell_type": "markdown",
      "source": [
        "![image.png](data:image/png;base64,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)"
      ],
      "metadata": {
        "id": "NkZDO1cY6_tm"
      }
    },
    {
      "cell_type": "code",
      "source": [
        "import sklearn\n",
        "sklearn.__version__"
      ],
      "metadata": {
        "colab": {
          "base_uri": "https://localhost:8080/",
          "height": 35
        },
        "id": "Coa-J8uJ7NW9",
        "outputId": "180757f8-7b87-4ff5-ca0a-5e864865efc1"
      },
      "execution_count": null,
      "outputs": [
        {
          "output_type": "execute_result",
          "data": {
            "application/vnd.google.colaboratory.intrinsic+json": {
              "type": "string"
            },
            "text/plain": [
              "'1.0.1'"
            ]
          },
          "metadata": {},
          "execution_count": 3
        }
      ]
    },
    {
      "cell_type": "markdown",
      "source": [
        "##データの準備"
      ],
      "metadata": {
        "id": "1FfdzWHg7uEG"
      }
    },
    {
      "cell_type": "code",
      "source": [
        "import numpy as np"
      ],
      "metadata": {
        "id": "r_E3Sv7H7ByY"
      },
      "execution_count": null,
      "outputs": []
    },
    {
      "cell_type": "code",
      "source": [
        "X=np.array([\n",
        "            [1,2,3],\n",
        "            [1,2,5],\n",
        "            [1,3,4],\n",
        "            [1,5,9]\n",
        "])\n",
        "X"
      ],
      "metadata": {
        "colab": {
          "base_uri": "https://localhost:8080/"
        },
        "id": "F1KsIkJ37mAz",
        "outputId": "ec6d7ee6-16d5-415c-c1d3-34af16da3bdd"
      },
      "execution_count": null,
      "outputs": [
        {
          "output_type": "execute_result",
          "data": {
            "text/plain": [
              "array([[1, 2, 3],\n",
              "       [1, 2, 5],\n",
              "       [1, 3, 4],\n",
              "       [1, 5, 9]])"
            ]
          },
          "metadata": {},
          "execution_count": 7
        }
      ]
    },
    {
      "cell_type": "code",
      "source": [
        "y=np.array([\n",
        "            [1],\n",
        "            [5],\n",
        "            [6],\n",
        "            [8]\n",
        "])\n",
        "y"
      ],
      "metadata": {
        "colab": {
          "base_uri": "https://localhost:8080/"
        },
        "id": "4vcvtba57_iN",
        "outputId": "36effff0-2428-47ca-885b-88581a115e09"
      },
      "execution_count": null,
      "outputs": [
        {
          "output_type": "execute_result",
          "data": {
            "text/plain": [
              "array([[1],\n",
              "       [5],\n",
              "       [6],\n",
              "       [8]])"
            ]
          },
          "metadata": {},
          "execution_count": 8
        }
      ]
    },
    {
      "cell_type": "markdown",
      "source": [
        "##Scikit-learnで実装"
      ],
      "metadata": {
        "id": "oeAHzEt_8Yy8"
      }
    },
    {
      "cell_type": "code",
      "source": [
        "from sklearn.linear_model import LinearRegression"
      ],
      "metadata": {
        "id": "8D4v3-ru8KfP"
      },
      "execution_count": null,
      "outputs": []
    },
    {
      "cell_type": "code",
      "source": [
        "# モデルの宣言\n",
        "model = LinearRegression(fit_intercept=False)"
      ],
      "metadata": {
        "id": "aXz8uZaY8thl"
      },
      "execution_count": null,
      "outputs": []
    },
    {
      "cell_type": "code",
      "source": [
        "# モデルの学習　← パラメータの調整\n",
        "model.fit(X, y)"
      ],
      "metadata": {
        "colab": {
          "base_uri": "https://localhost:8080/"
        },
        "id": "flywzMG-80sj",
        "outputId": "68c5e96f-06b4-4523-c470-5439a5fb6d22"
      },
      "execution_count": null,
      "outputs": [
        {
          "output_type": "execute_result",
          "data": {
            "text/plain": [
              "LinearRegression(fit_intercept=False)"
            ]
          },
          "metadata": {},
          "execution_count": 22
        }
      ]
    },
    {
      "cell_type": "code",
      "source": [],
      "metadata": {
        "id": "cJCfFl2W_5OQ"
      },
      "execution_count": null,
      "outputs": []
    },
    {
      "cell_type": "code",
      "source": [
        "#調整後のパラメータの確認\n",
        "model.coef_"
      ],
      "metadata": {
        "colab": {
          "base_uri": "https://localhost:8080/"
        },
        "id": "em-9FBcO9Bu4",
        "outputId": "f58b346f-b65b-420d-9138-3ce25dd4da33"
      },
      "execution_count": null,
      "outputs": [
        {
          "output_type": "execute_result",
          "data": {
            "text/plain": [
              "array([[-0.14285714,  0.71428571,  0.57142857]])"
            ]
          },
          "metadata": {},
          "execution_count": 23
        }
      ]
    },
    {
      "cell_type": "code",
      "source": [
        "# 予測精度の確認 (決定係数　0 ~ 1)\n",
        "model.score(X, y)"
      ],
      "metadata": {
        "colab": {
          "base_uri": "https://localhost:8080/"
        },
        "id": "0n0ytk1X9pcS",
        "outputId": "31658a87-d2d6-4a79-9a2f-fa969b56eb99"
      },
      "execution_count": null,
      "outputs": [
        {
          "output_type": "execute_result",
          "data": {
            "text/plain": [
              "0.6923076923076924"
            ]
          },
          "metadata": {},
          "execution_count": 25
        }
      ]
    },
    {
      "cell_type": "code",
      "source": [
        "x_new = np.array([[1, 3, 6]])\n",
        "x_new"
      ],
      "metadata": {
        "colab": {
          "base_uri": "https://localhost:8080/"
        },
        "id": "_LqcbGj-_f2F",
        "outputId": "1b3a12e9-309c-4edd-a5b9-2213c41a749e"
      },
      "execution_count": null,
      "outputs": [
        {
          "output_type": "execute_result",
          "data": {
            "text/plain": [
              "array([[1, 3, 6]])"
            ]
          },
          "metadata": {},
          "execution_count": 26
        }
      ]
    },
    {
      "cell_type": "code",
      "source": [
        "y_pred = model.predict(x_new)\n",
        "y_pred"
      ],
      "metadata": {
        "colab": {
          "base_uri": "https://localhost:8080/"
        },
        "id": "N475HaGW_znS",
        "outputId": "4649eec3-1c5d-40c4-ffde-1c83cf1dc915"
      },
      "execution_count": null,
      "outputs": [
        {
          "output_type": "execute_result",
          "data": {
            "text/plain": [
              "array([[5.42857143]])"
            ]
          },
          "metadata": {},
          "execution_count": 27
        }
      ]
    }
  ]
}